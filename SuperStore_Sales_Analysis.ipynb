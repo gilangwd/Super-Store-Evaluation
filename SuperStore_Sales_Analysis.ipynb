{
 "cells": [
  {
   "cell_type": "markdown",
   "metadata": {},
   "source": [
    "# 1. Introduction"
   ]
  },
  {
   "cell_type": "markdown",
   "metadata": {},
   "source": [
    "Gilang Wiradhyaksa\n",
    "\n",
    "Objektif dari projek ini adalah untuk menganalisa data superstore, dengan tujuan untuk meningkatkan profit perusahaan. Mencari faktor apa saja yang mempengaruhi profit perusahaan dan apa yang perlu dilakukan untuk meningkatkan profit perusahaan.\n",
    "\n",
    "Sumber Data :\n",
    "[Data Source](https://www.kaggle.com/datasets/vivek468/superstore-dataset-final)\n",
    "\n",
    "Dashboard :\n",
    "[Dashboard](https://public.tableau.com/app/profile/gilang.wiradhyaksa/viz/Milestone_1_16952848245730/Milestone_1)"
   ]
  },
  {
   "cell_type": "markdown",
   "metadata": {},
   "source": [
    "# 2. Problem Identification"
   ]
  },
  {
   "cell_type": "markdown",
   "metadata": {},
   "source": [
    "## 2.1 SMART"
   ]
  },
  {
   "cell_type": "markdown",
   "metadata": {},
   "source": [
    "- **Specific** : Meningkatkan profit dari penjualan superstore\n",
    "- **Measurable** : Meningkatkan profit penjualan sebesar 10%\n",
    "- **Achievable** : Dengan berbagai produk yang dimiliki oleh superstore, meningkatkan profit sebesar 10% adalah hal yang dapat dicapai\n",
    "- **Relevant** : Meningkatkan profit perusahaan akan berdampak baik untuk pertumbuhan perusahaan kedepannya\n",
    "- **Time-Bound** : Tujuannya adalah untuk meningkatkan profit perusahaan sebesar 10% dalam waktu satu tahun kedepan"
   ]
  },
  {
   "cell_type": "markdown",
   "metadata": {},
   "source": [
    "## 2.2 Problem Statement"
   ]
  },
  {
   "cell_type": "markdown",
   "metadata": {},
   "source": [
    "Tujuannya adalah untuk meningkatkan profit perusahaan sebesar 10% dalam waktu satu tahun kedepan."
   ]
  },
  {
   "cell_type": "markdown",
   "metadata": {},
   "source": [
    "## 2.3 Define a Problem (5W + 1H)"
   ]
  },
  {
   "cell_type": "markdown",
   "metadata": {},
   "source": [
    "- Dinegara bagian mana perusahaan mendapatkan profit tertinggi ?\n",
    "- Segmen pelanggan mana yang memberikan profit tertinggi untuk perusahaan ?\n",
    "- Kategori produk mana yang memberikan profit tertinggi untuk perusahaan ?\n",
    "- Apakah terdapat Sub-Kategori produk yang mengurangi profit perusahaan ?\n",
    "- Kategori produk mana yang paling laku terjual ?\n",
    "- Bagaimana profit perusahaan dalam 4 tahun terakhir di setiap region ?\n",
    "- Apakah jumlah customer memiliki hubungan dengan profit yang didapat pada setiap negara bagian ? (Statistic descriptive - Correlation)\n",
    "- Apakah jumlah diskon yang diberikan mempengaruhi profit perusahaan ? (Statistic inferential - Chi Square)"
   ]
  },
  {
   "cell_type": "markdown",
   "metadata": {},
   "source": [
    "## 2.4 Metrics Used"
   ]
  },
  {
   "cell_type": "markdown",
   "metadata": {},
   "source": [
    "Metrics yang digunakan untuk problem statement ini adalah GMV, rumus dari GMV adalah harga barang yang terjual dikalikan dengan jumlah barang yang terjual. Untuk meningkatkan profit, GMV dapat digunakan jika kita memfokuskan penggunaan metrics pada produk yang memiliki profit yang tinggi. Sehingga jika produk yang memiliki profit tinggi ini di tingkatkan penjualannya maka otomatis profit akan meningkat."
   ]
  },
  {
   "cell_type": "markdown",
   "metadata": {},
   "source": [
    "# 3. Data Loading"
   ]
  },
  {
   "cell_type": "code",
   "execution_count": 1,
   "metadata": {},
   "outputs": [],
   "source": [
    "import pandas as pd\n",
    "import numpy as np\n",
    "from scipy import stats\n",
    "import matplotlib.pyplot as plt\n",
    "import seaborn as sns\n",
    "import plotly.graph_objects as go\n",
    "pd.set_option(\"display.precision\", 2)"
   ]
  },
  {
   "cell_type": "markdown",
   "metadata": {},
   "source": [
    "[Data Source](https://www.kaggle.com/datasets/vivek468/superstore-dataset-final)"
   ]
  },
  {
   "cell_type": "code",
   "execution_count": 2,
   "metadata": {},
   "outputs": [
    {
     "data": {
      "text/html": [
       "<div>\n",
       "<style scoped>\n",
       "    .dataframe tbody tr th:only-of-type {\n",
       "        vertical-align: middle;\n",
       "    }\n",
       "\n",
       "    .dataframe tbody tr th {\n",
       "        vertical-align: top;\n",
       "    }\n",
       "\n",
       "    .dataframe thead th {\n",
       "        text-align: right;\n",
       "    }\n",
       "</style>\n",
       "<table border=\"1\" class=\"dataframe\">\n",
       "  <thead>\n",
       "    <tr style=\"text-align: right;\">\n",
       "      <th></th>\n",
       "      <th>Order ID</th>\n",
       "      <th>Order Date</th>\n",
       "      <th>Ship Date</th>\n",
       "      <th>Ship Mode</th>\n",
       "      <th>Customer ID</th>\n",
       "      <th>Customer Name</th>\n",
       "      <th>Segment</th>\n",
       "      <th>Country</th>\n",
       "      <th>City</th>\n",
       "      <th>State</th>\n",
       "      <th>Postal Code</th>\n",
       "      <th>Region</th>\n",
       "      <th>Product ID</th>\n",
       "      <th>Category</th>\n",
       "      <th>Sub-Category</th>\n",
       "      <th>Product Name</th>\n",
       "      <th>Sales</th>\n",
       "      <th>Quantity</th>\n",
       "      <th>Discount</th>\n",
       "      <th>Profit</th>\n",
       "    </tr>\n",
       "    <tr>\n",
       "      <th>Row ID</th>\n",
       "      <th></th>\n",
       "      <th></th>\n",
       "      <th></th>\n",
       "      <th></th>\n",
       "      <th></th>\n",
       "      <th></th>\n",
       "      <th></th>\n",
       "      <th></th>\n",
       "      <th></th>\n",
       "      <th></th>\n",
       "      <th></th>\n",
       "      <th></th>\n",
       "      <th></th>\n",
       "      <th></th>\n",
       "      <th></th>\n",
       "      <th></th>\n",
       "      <th></th>\n",
       "      <th></th>\n",
       "      <th></th>\n",
       "      <th></th>\n",
       "    </tr>\n",
       "  </thead>\n",
       "  <tbody>\n",
       "    <tr>\n",
       "      <th>1</th>\n",
       "      <td>CA-2016-152156</td>\n",
       "      <td>11/8/2016</td>\n",
       "      <td>11/11/2016</td>\n",
       "      <td>Second Class</td>\n",
       "      <td>CG-12520</td>\n",
       "      <td>Claire Gute</td>\n",
       "      <td>Consumer</td>\n",
       "      <td>United States</td>\n",
       "      <td>Henderson</td>\n",
       "      <td>Kentucky</td>\n",
       "      <td>42420</td>\n",
       "      <td>South</td>\n",
       "      <td>FUR-BO-10001798</td>\n",
       "      <td>Furniture</td>\n",
       "      <td>Bookcases</td>\n",
       "      <td>Bush Somerset Collection Bookcase</td>\n",
       "      <td>261.96</td>\n",
       "      <td>2</td>\n",
       "      <td>0.00</td>\n",
       "      <td>41.91</td>\n",
       "    </tr>\n",
       "    <tr>\n",
       "      <th>2</th>\n",
       "      <td>CA-2016-152156</td>\n",
       "      <td>11/8/2016</td>\n",
       "      <td>11/11/2016</td>\n",
       "      <td>Second Class</td>\n",
       "      <td>CG-12520</td>\n",
       "      <td>Claire Gute</td>\n",
       "      <td>Consumer</td>\n",
       "      <td>United States</td>\n",
       "      <td>Henderson</td>\n",
       "      <td>Kentucky</td>\n",
       "      <td>42420</td>\n",
       "      <td>South</td>\n",
       "      <td>FUR-CH-10000454</td>\n",
       "      <td>Furniture</td>\n",
       "      <td>Chairs</td>\n",
       "      <td>Hon Deluxe Fabric Upholstered Stacking Chairs,...</td>\n",
       "      <td>731.94</td>\n",
       "      <td>3</td>\n",
       "      <td>0.00</td>\n",
       "      <td>219.58</td>\n",
       "    </tr>\n",
       "    <tr>\n",
       "      <th>3</th>\n",
       "      <td>CA-2016-138688</td>\n",
       "      <td>6/12/2016</td>\n",
       "      <td>6/16/2016</td>\n",
       "      <td>Second Class</td>\n",
       "      <td>DV-13045</td>\n",
       "      <td>Darrin Van Huff</td>\n",
       "      <td>Corporate</td>\n",
       "      <td>United States</td>\n",
       "      <td>Los Angeles</td>\n",
       "      <td>California</td>\n",
       "      <td>90036</td>\n",
       "      <td>West</td>\n",
       "      <td>OFF-LA-10000240</td>\n",
       "      <td>Office Supplies</td>\n",
       "      <td>Labels</td>\n",
       "      <td>Self-Adhesive Address Labels for Typewriters b...</td>\n",
       "      <td>14.62</td>\n",
       "      <td>2</td>\n",
       "      <td>0.00</td>\n",
       "      <td>6.87</td>\n",
       "    </tr>\n",
       "    <tr>\n",
       "      <th>4</th>\n",
       "      <td>US-2015-108966</td>\n",
       "      <td>10/11/2015</td>\n",
       "      <td>10/18/2015</td>\n",
       "      <td>Standard Class</td>\n",
       "      <td>SO-20335</td>\n",
       "      <td>Sean O'Donnell</td>\n",
       "      <td>Consumer</td>\n",
       "      <td>United States</td>\n",
       "      <td>Fort Lauderdale</td>\n",
       "      <td>Florida</td>\n",
       "      <td>33311</td>\n",
       "      <td>South</td>\n",
       "      <td>FUR-TA-10000577</td>\n",
       "      <td>Furniture</td>\n",
       "      <td>Tables</td>\n",
       "      <td>Bretford CR4500 Series Slim Rectangular Table</td>\n",
       "      <td>957.58</td>\n",
       "      <td>5</td>\n",
       "      <td>0.45</td>\n",
       "      <td>-383.03</td>\n",
       "    </tr>\n",
       "    <tr>\n",
       "      <th>5</th>\n",
       "      <td>US-2015-108966</td>\n",
       "      <td>10/11/2015</td>\n",
       "      <td>10/18/2015</td>\n",
       "      <td>Standard Class</td>\n",
       "      <td>SO-20335</td>\n",
       "      <td>Sean O'Donnell</td>\n",
       "      <td>Consumer</td>\n",
       "      <td>United States</td>\n",
       "      <td>Fort Lauderdale</td>\n",
       "      <td>Florida</td>\n",
       "      <td>33311</td>\n",
       "      <td>South</td>\n",
       "      <td>OFF-ST-10000760</td>\n",
       "      <td>Office Supplies</td>\n",
       "      <td>Storage</td>\n",
       "      <td>Eldon Fold 'N Roll Cart System</td>\n",
       "      <td>22.37</td>\n",
       "      <td>2</td>\n",
       "      <td>0.20</td>\n",
       "      <td>2.52</td>\n",
       "    </tr>\n",
       "  </tbody>\n",
       "</table>\n",
       "</div>"
      ],
      "text/plain": [
       "              Order ID  Order Date   Ship Date       Ship Mode Customer ID  \\\n",
       "Row ID                                                                       \n",
       "1       CA-2016-152156   11/8/2016  11/11/2016    Second Class    CG-12520   \n",
       "2       CA-2016-152156   11/8/2016  11/11/2016    Second Class    CG-12520   \n",
       "3       CA-2016-138688   6/12/2016   6/16/2016    Second Class    DV-13045   \n",
       "4       US-2015-108966  10/11/2015  10/18/2015  Standard Class    SO-20335   \n",
       "5       US-2015-108966  10/11/2015  10/18/2015  Standard Class    SO-20335   \n",
       "\n",
       "          Customer Name    Segment        Country             City  \\\n",
       "Row ID                                                               \n",
       "1           Claire Gute   Consumer  United States        Henderson   \n",
       "2           Claire Gute   Consumer  United States        Henderson   \n",
       "3       Darrin Van Huff  Corporate  United States      Los Angeles   \n",
       "4        Sean O'Donnell   Consumer  United States  Fort Lauderdale   \n",
       "5        Sean O'Donnell   Consumer  United States  Fort Lauderdale   \n",
       "\n",
       "             State  Postal Code Region       Product ID         Category  \\\n",
       "Row ID                                                                     \n",
       "1         Kentucky        42420  South  FUR-BO-10001798        Furniture   \n",
       "2         Kentucky        42420  South  FUR-CH-10000454        Furniture   \n",
       "3       California        90036   West  OFF-LA-10000240  Office Supplies   \n",
       "4          Florida        33311  South  FUR-TA-10000577        Furniture   \n",
       "5          Florida        33311  South  OFF-ST-10000760  Office Supplies   \n",
       "\n",
       "       Sub-Category                                       Product Name  \\\n",
       "Row ID                                                                   \n",
       "1         Bookcases                  Bush Somerset Collection Bookcase   \n",
       "2            Chairs  Hon Deluxe Fabric Upholstered Stacking Chairs,...   \n",
       "3            Labels  Self-Adhesive Address Labels for Typewriters b...   \n",
       "4            Tables      Bretford CR4500 Series Slim Rectangular Table   \n",
       "5           Storage                     Eldon Fold 'N Roll Cart System   \n",
       "\n",
       "         Sales  Quantity  Discount  Profit  \n",
       "Row ID                                      \n",
       "1       261.96         2      0.00   41.91  \n",
       "2       731.94         3      0.00  219.58  \n",
       "3        14.62         2      0.00    6.87  \n",
       "4       957.58         5      0.45 -383.03  \n",
       "5        22.37         2      0.20    2.52  "
      ]
     },
     "execution_count": 2,
     "metadata": {},
     "output_type": "execute_result"
    }
   ],
   "source": [
    "#Get Data from CSV\n",
    "df = pd.read_csv('superstore_data.csv', index_col = 'Row ID', encoding='cp1252')\n",
    "df.head()"
   ]
  },
  {
   "cell_type": "code",
   "execution_count": 3,
   "metadata": {},
   "outputs": [
    {
     "name": "stdout",
     "output_type": "stream",
     "text": [
      "<class 'pandas.core.frame.DataFrame'>\n",
      "Int64Index: 9994 entries, 1 to 9994\n",
      "Data columns (total 20 columns):\n",
      " #   Column         Non-Null Count  Dtype  \n",
      "---  ------         --------------  -----  \n",
      " 0   Order ID       9994 non-null   object \n",
      " 1   Order Date     9994 non-null   object \n",
      " 2   Ship Date      9994 non-null   object \n",
      " 3   Ship Mode      9994 non-null   object \n",
      " 4   Customer ID    9994 non-null   object \n",
      " 5   Customer Name  9994 non-null   object \n",
      " 6   Segment        9994 non-null   object \n",
      " 7   Country        9994 non-null   object \n",
      " 8   City           9994 non-null   object \n",
      " 9   State          9994 non-null   object \n",
      " 10  Postal Code    9994 non-null   int64  \n",
      " 11  Region         9994 non-null   object \n",
      " 12  Product ID     9994 non-null   object \n",
      " 13  Category       9994 non-null   object \n",
      " 14  Sub-Category   9994 non-null   object \n",
      " 15  Product Name   9994 non-null   object \n",
      " 16  Sales          9994 non-null   float64\n",
      " 17  Quantity       9994 non-null   int64  \n",
      " 18  Discount       9994 non-null   float64\n",
      " 19  Profit         9994 non-null   float64\n",
      "dtypes: float64(3), int64(2), object(15)\n",
      "memory usage: 1.6+ MB\n"
     ]
    }
   ],
   "source": [
    "df.info()"
   ]
  },
  {
   "cell_type": "code",
   "execution_count": 4,
   "metadata": {},
   "outputs": [
    {
     "data": {
      "text/html": [
       "<div>\n",
       "<style scoped>\n",
       "    .dataframe tbody tr th:only-of-type {\n",
       "        vertical-align: middle;\n",
       "    }\n",
       "\n",
       "    .dataframe tbody tr th {\n",
       "        vertical-align: top;\n",
       "    }\n",
       "\n",
       "    .dataframe thead th {\n",
       "        text-align: right;\n",
       "    }\n",
       "</style>\n",
       "<table border=\"1\" class=\"dataframe\">\n",
       "  <thead>\n",
       "    <tr style=\"text-align: right;\">\n",
       "      <th></th>\n",
       "      <th>Postal Code</th>\n",
       "      <th>Sales</th>\n",
       "      <th>Quantity</th>\n",
       "      <th>Discount</th>\n",
       "      <th>Profit</th>\n",
       "    </tr>\n",
       "  </thead>\n",
       "  <tbody>\n",
       "    <tr>\n",
       "      <th>count</th>\n",
       "      <td>9994.00</td>\n",
       "      <td>9994.00</td>\n",
       "      <td>9994.00</td>\n",
       "      <td>9994.00</td>\n",
       "      <td>9994.00</td>\n",
       "    </tr>\n",
       "    <tr>\n",
       "      <th>mean</th>\n",
       "      <td>55190.38</td>\n",
       "      <td>229.86</td>\n",
       "      <td>3.79</td>\n",
       "      <td>0.16</td>\n",
       "      <td>28.66</td>\n",
       "    </tr>\n",
       "    <tr>\n",
       "      <th>std</th>\n",
       "      <td>32063.69</td>\n",
       "      <td>623.25</td>\n",
       "      <td>2.23</td>\n",
       "      <td>0.21</td>\n",
       "      <td>234.26</td>\n",
       "    </tr>\n",
       "    <tr>\n",
       "      <th>min</th>\n",
       "      <td>1040.00</td>\n",
       "      <td>0.44</td>\n",
       "      <td>1.00</td>\n",
       "      <td>0.00</td>\n",
       "      <td>-6599.98</td>\n",
       "    </tr>\n",
       "    <tr>\n",
       "      <th>25%</th>\n",
       "      <td>23223.00</td>\n",
       "      <td>17.28</td>\n",
       "      <td>2.00</td>\n",
       "      <td>0.00</td>\n",
       "      <td>1.73</td>\n",
       "    </tr>\n",
       "    <tr>\n",
       "      <th>50%</th>\n",
       "      <td>56430.50</td>\n",
       "      <td>54.49</td>\n",
       "      <td>3.00</td>\n",
       "      <td>0.20</td>\n",
       "      <td>8.67</td>\n",
       "    </tr>\n",
       "    <tr>\n",
       "      <th>75%</th>\n",
       "      <td>90008.00</td>\n",
       "      <td>209.94</td>\n",
       "      <td>5.00</td>\n",
       "      <td>0.20</td>\n",
       "      <td>29.36</td>\n",
       "    </tr>\n",
       "    <tr>\n",
       "      <th>max</th>\n",
       "      <td>99301.00</td>\n",
       "      <td>22638.48</td>\n",
       "      <td>14.00</td>\n",
       "      <td>0.80</td>\n",
       "      <td>8399.98</td>\n",
       "    </tr>\n",
       "  </tbody>\n",
       "</table>\n",
       "</div>"
      ],
      "text/plain": [
       "       Postal Code     Sales  Quantity  Discount   Profit\n",
       "count      9994.00   9994.00   9994.00   9994.00  9994.00\n",
       "mean      55190.38    229.86      3.79      0.16    28.66\n",
       "std       32063.69    623.25      2.23      0.21   234.26\n",
       "min        1040.00      0.44      1.00      0.00 -6599.98\n",
       "25%       23223.00     17.28      2.00      0.00     1.73\n",
       "50%       56430.50     54.49      3.00      0.20     8.67\n",
       "75%       90008.00    209.94      5.00      0.20    29.36\n",
       "max       99301.00  22638.48     14.00      0.80  8399.98"
      ]
     },
     "execution_count": 4,
     "metadata": {},
     "output_type": "execute_result"
    }
   ],
   "source": [
    "df.describe()"
   ]
  },
  {
   "cell_type": "code",
   "execution_count": 5,
   "metadata": {},
   "outputs": [
    {
     "data": {
      "text/plain": [
       "Order ID         0\n",
       "Order Date       0\n",
       "Ship Date        0\n",
       "Ship Mode        0\n",
       "Customer ID      0\n",
       "Customer Name    0\n",
       "Segment          0\n",
       "Country          0\n",
       "City             0\n",
       "State            0\n",
       "Postal Code      0\n",
       "Region           0\n",
       "Product ID       0\n",
       "Category         0\n",
       "Sub-Category     0\n",
       "Product Name     0\n",
       "Sales            0\n",
       "Quantity         0\n",
       "Discount         0\n",
       "Profit           0\n",
       "dtype: int64"
      ]
     },
     "execution_count": 5,
     "metadata": {},
     "output_type": "execute_result"
    }
   ],
   "source": [
    "df.isnull().sum()"
   ]
  },
  {
   "cell_type": "markdown",
   "metadata": {},
   "source": [
    "Data yang didapatkan memiliki 21 kolom dan 9994 baris. Data sudah bagus, tidak terdapat value dengan nilai null pada seluruh kolom. Juga terdapat 3 kolom dengan tipe data float, 2 kolom dengan tipe data int dan 15 kolom dengan tipe data object."
   ]
  },
  {
   "cell_type": "markdown",
   "metadata": {},
   "source": [
    "# 4. Data Cleaning"
   ]
  },
  {
   "cell_type": "markdown",
   "metadata": {},
   "source": [
    "## 4.1 Data Duplicate"
   ]
  },
  {
   "cell_type": "code",
   "execution_count": 6,
   "metadata": {},
   "outputs": [
    {
     "data": {
      "text/html": [
       "<div>\n",
       "<style scoped>\n",
       "    .dataframe tbody tr th:only-of-type {\n",
       "        vertical-align: middle;\n",
       "    }\n",
       "\n",
       "    .dataframe tbody tr th {\n",
       "        vertical-align: top;\n",
       "    }\n",
       "\n",
       "    .dataframe thead th {\n",
       "        text-align: right;\n",
       "    }\n",
       "</style>\n",
       "<table border=\"1\" class=\"dataframe\">\n",
       "  <thead>\n",
       "    <tr style=\"text-align: right;\">\n",
       "      <th></th>\n",
       "      <th>Order ID</th>\n",
       "      <th>Order Date</th>\n",
       "      <th>Ship Date</th>\n",
       "      <th>Ship Mode</th>\n",
       "      <th>Customer ID</th>\n",
       "      <th>Customer Name</th>\n",
       "      <th>Segment</th>\n",
       "      <th>Country</th>\n",
       "      <th>City</th>\n",
       "      <th>State</th>\n",
       "      <th>Postal Code</th>\n",
       "      <th>Region</th>\n",
       "      <th>Product ID</th>\n",
       "      <th>Category</th>\n",
       "      <th>Sub-Category</th>\n",
       "      <th>Product Name</th>\n",
       "      <th>Sales</th>\n",
       "      <th>Quantity</th>\n",
       "      <th>Discount</th>\n",
       "      <th>Profit</th>\n",
       "    </tr>\n",
       "    <tr>\n",
       "      <th>Row ID</th>\n",
       "      <th></th>\n",
       "      <th></th>\n",
       "      <th></th>\n",
       "      <th></th>\n",
       "      <th></th>\n",
       "      <th></th>\n",
       "      <th></th>\n",
       "      <th></th>\n",
       "      <th></th>\n",
       "      <th></th>\n",
       "      <th></th>\n",
       "      <th></th>\n",
       "      <th></th>\n",
       "      <th></th>\n",
       "      <th></th>\n",
       "      <th></th>\n",
       "      <th></th>\n",
       "      <th></th>\n",
       "      <th></th>\n",
       "      <th></th>\n",
       "    </tr>\n",
       "  </thead>\n",
       "  <tbody>\n",
       "    <tr>\n",
       "      <th>3407</th>\n",
       "      <td>US-2014-150119</td>\n",
       "      <td>4/23/2014</td>\n",
       "      <td>4/27/2014</td>\n",
       "      <td>Standard Class</td>\n",
       "      <td>LB-16795</td>\n",
       "      <td>Laurel Beltran</td>\n",
       "      <td>Home Office</td>\n",
       "      <td>United States</td>\n",
       "      <td>Columbus</td>\n",
       "      <td>Ohio</td>\n",
       "      <td>43229</td>\n",
       "      <td>East</td>\n",
       "      <td>FUR-CH-10002965</td>\n",
       "      <td>Furniture</td>\n",
       "      <td>Chairs</td>\n",
       "      <td>Global Leather Highback Executive Chair with P...</td>\n",
       "      <td>281.37</td>\n",
       "      <td>2</td>\n",
       "      <td>0.3</td>\n",
       "      <td>-12.06</td>\n",
       "    </tr>\n",
       "  </tbody>\n",
       "</table>\n",
       "</div>"
      ],
      "text/plain": [
       "              Order ID Order Date  Ship Date       Ship Mode Customer ID  \\\n",
       "Row ID                                                                     \n",
       "3407    US-2014-150119  4/23/2014  4/27/2014  Standard Class    LB-16795   \n",
       "\n",
       "         Customer Name      Segment        Country      City State  \\\n",
       "Row ID                                                               \n",
       "3407    Laurel Beltran  Home Office  United States  Columbus  Ohio   \n",
       "\n",
       "        Postal Code Region       Product ID   Category Sub-Category  \\\n",
       "Row ID                                                                \n",
       "3407          43229   East  FUR-CH-10002965  Furniture       Chairs   \n",
       "\n",
       "                                             Product Name   Sales  Quantity  \\\n",
       "Row ID                                                                        \n",
       "3407    Global Leather Highback Executive Chair with P...  281.37         2   \n",
       "\n",
       "        Discount  Profit  \n",
       "Row ID                    \n",
       "3407         0.3  -12.06  "
      ]
     },
     "execution_count": 6,
     "metadata": {},
     "output_type": "execute_result"
    }
   ],
   "source": [
    "#Find duplicate data\n",
    "df.loc[df.duplicated()]"
   ]
  },
  {
   "cell_type": "code",
   "execution_count": 7,
   "metadata": {},
   "outputs": [],
   "source": [
    "#Delete diplicate data\n",
    "df = df.drop_duplicates()"
   ]
  },
  {
   "cell_type": "markdown",
   "metadata": {},
   "source": [
    "Ditemukan sebuah data yang merupakan duplikasi, maka baris data duplikat tersebut dihapus."
   ]
  },
  {
   "cell_type": "code",
   "execution_count": 8,
   "metadata": {},
   "outputs": [
    {
     "data": {
      "text/plain": [
       "Order ID         5009\n",
       "Order Date       1237\n",
       "Ship Date        1334\n",
       "Ship Mode           4\n",
       "Customer ID       793\n",
       "Customer Name     793\n",
       "Segment             3\n",
       "Country             1\n",
       "City              531\n",
       "State              49\n",
       "Postal Code       631\n",
       "Region              4\n",
       "Product ID       1862\n",
       "Category            3\n",
       "Sub-Category       17\n",
       "Product Name     1850\n",
       "Sales            5825\n",
       "Quantity           14\n",
       "Discount           12\n",
       "Profit           7287\n",
       "dtype: int64"
      ]
     },
     "execution_count": 8,
     "metadata": {},
     "output_type": "execute_result"
    }
   ],
   "source": [
    "#Check unique value for each column\n",
    "df.nunique()"
   ]
  },
  {
   "cell_type": "code",
   "execution_count": 9,
   "metadata": {},
   "outputs": [
    {
     "data": {
      "text/plain": [
       "array(['United States'], dtype=object)"
      ]
     },
     "execution_count": 9,
     "metadata": {},
     "output_type": "execute_result"
    }
   ],
   "source": [
    "df['Country'].unique()"
   ]
  },
  {
   "cell_type": "markdown",
   "metadata": {},
   "source": [
    "Data diatas menampilkan jumlah unique value pada setiap kolom. Dari informasi ini terdapat dua kolom yang dapat dihilangkan karena tidak diperlukuan. Kolom pertama adalah Country, hanya terdapat satu data pada kolom country yaitu \"United States\" sehingga dapat disimpulkan bahwa seluruh data ini terjadi di United States dan kolom tersebut dapat dihilangkan. Selanjutnya kolom Customer ID dan Customer Name memiliki jumlah yang sama persis sebanyak 793 yang artinya seluruh customer memiliki ID nya masing - masing, maka kolom customer name tidak dibutuhkan dan dapat dihilangkan."
   ]
  },
  {
   "cell_type": "code",
   "execution_count": 10,
   "metadata": {},
   "outputs": [],
   "source": [
    "#Delete useless columns\n",
    "df = df.drop(columns=['Country', 'Customer Name'])"
   ]
  },
  {
   "cell_type": "markdown",
   "metadata": {},
   "source": [
    "## 4.2 Inconsistent Data Handling"
   ]
  },
  {
   "cell_type": "code",
   "execution_count": 11,
   "metadata": {},
   "outputs": [
    {
     "data": {
      "text/html": [
       "<div>\n",
       "<style scoped>\n",
       "    .dataframe tbody tr th:only-of-type {\n",
       "        vertical-align: middle;\n",
       "    }\n",
       "\n",
       "    .dataframe tbody tr th {\n",
       "        vertical-align: top;\n",
       "    }\n",
       "\n",
       "    .dataframe thead th {\n",
       "        text-align: right;\n",
       "    }\n",
       "</style>\n",
       "<table border=\"1\" class=\"dataframe\">\n",
       "  <thead>\n",
       "    <tr style=\"text-align: right;\">\n",
       "      <th></th>\n",
       "      <th>Order Date</th>\n",
       "      <th>Ship Date</th>\n",
       "    </tr>\n",
       "    <tr>\n",
       "      <th>Row ID</th>\n",
       "      <th></th>\n",
       "      <th></th>\n",
       "    </tr>\n",
       "  </thead>\n",
       "  <tbody>\n",
       "    <tr>\n",
       "      <th>1</th>\n",
       "      <td>11/8/2016</td>\n",
       "      <td>11/11/2016</td>\n",
       "    </tr>\n",
       "    <tr>\n",
       "      <th>2</th>\n",
       "      <td>11/8/2016</td>\n",
       "      <td>11/11/2016</td>\n",
       "    </tr>\n",
       "    <tr>\n",
       "      <th>3</th>\n",
       "      <td>6/12/2016</td>\n",
       "      <td>6/16/2016</td>\n",
       "    </tr>\n",
       "  </tbody>\n",
       "</table>\n",
       "</div>"
      ],
      "text/plain": [
       "       Order Date   Ship Date\n",
       "Row ID                       \n",
       "1       11/8/2016  11/11/2016\n",
       "2       11/8/2016  11/11/2016\n",
       "3       6/12/2016   6/16/2016"
      ]
     },
     "execution_count": 11,
     "metadata": {},
     "output_type": "execute_result"
    }
   ],
   "source": [
    "df[['Order Date', 'Ship Date']].head(3)"
   ]
  },
  {
   "cell_type": "code",
   "execution_count": 12,
   "metadata": {},
   "outputs": [],
   "source": [
    "df['Order Date'] = pd.to_datetime(df['Order Date'], format='%m/%d/%Y')\n",
    "df['Ship Date'] = pd.to_datetime(df['Ship Date'], format='%m/%d/%Y')"
   ]
  },
  {
   "cell_type": "markdown",
   "metadata": {},
   "source": [
    "Kolom order date dan ship date bertipe data object, maka perlu dilakukan perubahan tipe data menjadi date time agar datanya bisa diolah dan dianalisa lebih lanjut."
   ]
  },
  {
   "cell_type": "markdown",
   "metadata": {},
   "source": [
    "# 5. Exploratory Data Analysis"
   ]
  },
  {
   "cell_type": "markdown",
   "metadata": {},
   "source": [
    "## 5.1 Dinegara bagian mana perusahaan mendapatkan profit tertinggi ?"
   ]
  },
  {
   "cell_type": "code",
   "execution_count": 13,
   "metadata": {},
   "outputs": [
    {
     "data": {
      "text/html": [
       "<div>\n",
       "<style scoped>\n",
       "    .dataframe tbody tr th:only-of-type {\n",
       "        vertical-align: middle;\n",
       "    }\n",
       "\n",
       "    .dataframe tbody tr th {\n",
       "        vertical-align: top;\n",
       "    }\n",
       "\n",
       "    .dataframe thead th {\n",
       "        text-align: right;\n",
       "    }\n",
       "</style>\n",
       "<table border=\"1\" class=\"dataframe\">\n",
       "  <thead>\n",
       "    <tr style=\"text-align: right;\">\n",
       "      <th></th>\n",
       "      <th>State</th>\n",
       "      <th>Profit</th>\n",
       "    </tr>\n",
       "  </thead>\n",
       "  <tbody>\n",
       "    <tr>\n",
       "      <th>0</th>\n",
       "      <td>California</td>\n",
       "      <td>76381.39</td>\n",
       "    </tr>\n",
       "    <tr>\n",
       "      <th>1</th>\n",
       "      <td>New York</td>\n",
       "      <td>74038.55</td>\n",
       "    </tr>\n",
       "    <tr>\n",
       "      <th>2</th>\n",
       "      <td>Washington</td>\n",
       "      <td>33402.65</td>\n",
       "    </tr>\n",
       "    <tr>\n",
       "      <th>3</th>\n",
       "      <td>Michigan</td>\n",
       "      <td>24463.19</td>\n",
       "    </tr>\n",
       "    <tr>\n",
       "      <th>4</th>\n",
       "      <td>Virginia</td>\n",
       "      <td>18597.95</td>\n",
       "    </tr>\n",
       "  </tbody>\n",
       "</table>\n",
       "</div>"
      ],
      "text/plain": [
       "        State    Profit\n",
       "0  California  76381.39\n",
       "1    New York  74038.55\n",
       "2  Washington  33402.65\n",
       "3    Michigan  24463.19\n",
       "4    Virginia  18597.95"
      ]
     },
     "execution_count": 13,
     "metadata": {},
     "output_type": "execute_result"
    }
   ],
   "source": [
    "#Sum profit per State\n",
    "\n",
    "# df_per_state = df.groupby('State').agg({'Customer ID':'count'}).sort_values(by=['Customer ID'], ascending=False)\n",
    "df_per_state = df.groupby('State').agg({'Profit':'sum'}).sort_values(by=['Profit'], ascending=False).reset_index()\n",
    "df_per_state.head()"
   ]
  },
  {
   "cell_type": "code",
   "execution_count": 14,
   "metadata": {},
   "outputs": [
    {
     "data": {
      "text/html": [
       "<div>\n",
       "<style scoped>\n",
       "    .dataframe tbody tr th:only-of-type {\n",
       "        vertical-align: middle;\n",
       "    }\n",
       "\n",
       "    .dataframe tbody tr th {\n",
       "        vertical-align: top;\n",
       "    }\n",
       "\n",
       "    .dataframe thead th {\n",
       "        text-align: right;\n",
       "    }\n",
       "</style>\n",
       "<table border=\"1\" class=\"dataframe\">\n",
       "  <thead>\n",
       "    <tr style=\"text-align: right;\">\n",
       "      <th></th>\n",
       "      <th>State</th>\n",
       "      <th>Profit</th>\n",
       "    </tr>\n",
       "  </thead>\n",
       "  <tbody>\n",
       "    <tr>\n",
       "      <th>44</th>\n",
       "      <td>North Carolina</td>\n",
       "      <td>-7490.91</td>\n",
       "    </tr>\n",
       "    <tr>\n",
       "      <th>45</th>\n",
       "      <td>Illinois</td>\n",
       "      <td>-12607.89</td>\n",
       "    </tr>\n",
       "    <tr>\n",
       "      <th>46</th>\n",
       "      <td>Pennsylvania</td>\n",
       "      <td>-15559.96</td>\n",
       "    </tr>\n",
       "    <tr>\n",
       "      <th>47</th>\n",
       "      <td>Ohio</td>\n",
       "      <td>-16959.32</td>\n",
       "    </tr>\n",
       "    <tr>\n",
       "      <th>48</th>\n",
       "      <td>Texas</td>\n",
       "      <td>-25729.36</td>\n",
       "    </tr>\n",
       "  </tbody>\n",
       "</table>\n",
       "</div>"
      ],
      "text/plain": [
       "             State    Profit\n",
       "44  North Carolina  -7490.91\n",
       "45        Illinois -12607.89\n",
       "46    Pennsylvania -15559.96\n",
       "47            Ohio -16959.32\n",
       "48           Texas -25729.36"
      ]
     },
     "execution_count": 14,
     "metadata": {},
     "output_type": "execute_result"
    }
   ],
   "source": [
    "df_per_state.tail()"
   ]
  },
  {
   "cell_type": "code",
   "execution_count": 15,
   "metadata": {},
   "outputs": [],
   "source": [
    "#Set abbreviation for each State\n",
    "state_to_abb = {\n",
    "    \"Alabama\": \"AL\",\n",
    "    \"Alaska\": \"AK\",\n",
    "    \"Arizona\": \"AZ\",\n",
    "    \"Arkansas\": \"AR\",\n",
    "    \"California\": \"CA\",\n",
    "    \"Colorado\": \"CO\",\n",
    "    \"Connecticut\": \"CT\",\n",
    "    \"Delaware\": \"DE\",\n",
    "    \"Florida\": \"FL\",\n",
    "    \"Georgia\": \"GA\",\n",
    "    \"Hawaii\": \"HI\",\n",
    "    \"Idaho\": \"ID\",\n",
    "    \"Illinois\": \"IL\",\n",
    "    \"Indiana\": \"IN\",\n",
    "    \"Iowa\": \"IA\",\n",
    "    \"Kansas\": \"KS\",\n",
    "    \"Kentucky\": \"KY\",\n",
    "    \"Louisiana\": \"LA\",\n",
    "    \"Maine\": \"ME\",\n",
    "    \"Maryland\": \"MD\",\n",
    "    \"Massachusetts\": \"MA\",\n",
    "    \"Michigan\": \"MI\",\n",
    "    \"Minnesota\": \"MN\",\n",
    "    \"Mississippi\": \"MS\",\n",
    "    \"Missouri\": \"MO\",\n",
    "    \"Montana\": \"MT\",\n",
    "    \"Nebraska\": \"NE\",\n",
    "    \"Nevada\": \"NV\",\n",
    "    \"New Hampshire\": \"NH\",\n",
    "    \"New Jersey\": \"NJ\",\n",
    "    \"New Mexico\": \"NM\",\n",
    "    \"New York\": \"NY\",\n",
    "    \"North Carolina\": \"NC\",\n",
    "    \"North Dakota\": \"ND\",\n",
    "    \"Ohio\": \"OH\",\n",
    "    \"Oklahoma\": \"OK\",\n",
    "    \"Oregon\": \"OR\",\n",
    "    \"Pennsylvania\": \"PA\",\n",
    "    \"Rhode Island\": \"RI\",\n",
    "    \"South Carolina\": \"SC\",\n",
    "    \"South Dakota\": \"SD\",\n",
    "    \"Tennessee\": \"TN\",\n",
    "    \"Texas\": \"TX\",\n",
    "    \"Utah\": \"UT\",\n",
    "    \"Vermont\": \"VT\",\n",
    "    \"Virginia\": \"VA\",\n",
    "    \"Washington\": \"WA\",\n",
    "    \"West Virginia\": \"WV\",\n",
    "    \"Wisconsin\": \"WI\",\n",
    "    \"Wyoming\": \"WY\",\n",
    "    \"District of Columbia\": \"DC\",\n",
    "    \"American Samoa\": \"AS\",\n",
    "    \"Guam\": \"GU\",\n",
    "    \"Northern Mariana Islands\": \"MP\",\n",
    "    \"Puerto Rico\": \"PR\",\n",
    "    \"United States Minor Outlying Islands\": \"UM\",\n",
    "    \"U.S. Virgin Islands\": \"VI\",\n",
    "}"
   ]
  },
  {
   "cell_type": "code",
   "execution_count": 16,
   "metadata": {},
   "outputs": [],
   "source": [
    "# df_per_state['state_abb'] = df_per_state['State'].replace(state_to_abb)\n",
    "df_per_state['State'] = df_per_state['State'].replace(state_to_abb)\n",
    "df_per_state.set_index('State', inplace=True)\n",
    "df_per_state.index.name = None"
   ]
  },
  {
   "cell_type": "code",
   "execution_count": 39,
   "metadata": {},
   "outputs": [
    {
     "data": {
      "application/vnd.plotly.v1+json": {
       "config": {
        "plotlyServerURL": "https://plot.ly"
       },
       "data": [
        {
         "colorscale": [
          [
           0,
           "rgb(255, 77, 77)"
          ],
          [
           0.3333333333333333,
           "rgb(210, 231, 154)"
          ],
          [
           0.6666666666666666,
           "rgb(94, 179, 39)"
          ],
          [
           1,
           "rgb(67, 136, 33)"
          ]
         ],
         "locationmode": "USA-states",
         "locations": [
          "CA",
          "NY",
          "WA",
          "MI",
          "VA",
          "IN",
          "GA",
          "KY",
          "MN",
          "DE",
          "NJ",
          "WI",
          "RI",
          "MD",
          "MA",
          "MO",
          "AL",
          "OK",
          "AR",
          "CT",
          "NV",
          "MS",
          "UT",
          "VT",
          "LA",
          "NE",
          "MT",
          "SC",
          "NH",
          "IA",
          "NM",
          "DC",
          "KS",
          "ID",
          "ME",
          "SD",
          "ND",
          "WV",
          "WY",
          "OR",
          "FL",
          "AZ",
          "TN",
          "CO",
          "NC",
          "IL",
          "PA",
          "OH",
          "TX"
         ],
         "type": "choropleth",
         "z": [
          76381.38709999999,
          74038.5486,
          33402.6517,
          24463.1876,
          18597.9504,
          18382.9363,
          16250.0433,
          11199.6966,
          10823.1874,
          9977.3748,
          9772.9138,
          8401.8004,
          7285.6293000000005,
          7031.1788,
          6785.5016000000005,
          6436.2105,
          5786.8253,
          4853.956,
          4008.6871,
          3511.4918,
          3316.7659,
          3172.9762,
          2546.5335,
          2244.9782999999998,
          2196.1023,
          2037.0942000000002,
          1833.3285,
          1769.0566,
          1706.5028,
          1183.8119,
          1157.1161,
          1059.5892999999999,
          836.4435,
          826.7231,
          454.4862,
          394.8283,
          230.1497,
          185.9216,
          100.196,
          -1190.4705,
          -3399.3017000000004,
          -3427.9246,
          -5341.6936,
          -6527.8579,
          -7490.9122,
          -12607.887,
          -15559.9603,
          -16959.3178,
          -25729.3563
         ],
         "zmax": 60000,
         "zmid": 0,
         "zmin": -30000
        }
       ],
       "layout": {
        "font": {
         "size": 14
        },
        "geo": {
         "scope": "usa"
        },
        "template": {
         "data": {
          "bar": [
           {
            "error_x": {
             "color": "#2a3f5f"
            },
            "error_y": {
             "color": "#2a3f5f"
            },
            "marker": {
             "line": {
              "color": "#E5ECF6",
              "width": 0.5
             },
             "pattern": {
              "fillmode": "overlay",
              "size": 10,
              "solidity": 0.2
             }
            },
            "type": "bar"
           }
          ],
          "barpolar": [
           {
            "marker": {
             "line": {
              "color": "#E5ECF6",
              "width": 0.5
             },
             "pattern": {
              "fillmode": "overlay",
              "size": 10,
              "solidity": 0.2
             }
            },
            "type": "barpolar"
           }
          ],
          "carpet": [
           {
            "aaxis": {
             "endlinecolor": "#2a3f5f",
             "gridcolor": "white",
             "linecolor": "white",
             "minorgridcolor": "white",
             "startlinecolor": "#2a3f5f"
            },
            "baxis": {
             "endlinecolor": "#2a3f5f",
             "gridcolor": "white",
             "linecolor": "white",
             "minorgridcolor": "white",
             "startlinecolor": "#2a3f5f"
            },
            "type": "carpet"
           }
          ],
          "choropleth": [
           {
            "colorbar": {
             "outlinewidth": 0,
             "ticks": ""
            },
            "type": "choropleth"
           }
          ],
          "contour": [
           {
            "colorbar": {
             "outlinewidth": 0,
             "ticks": ""
            },
            "colorscale": [
             [
              0,
              "#0d0887"
             ],
             [
              0.1111111111111111,
              "#46039f"
             ],
             [
              0.2222222222222222,
              "#7201a8"
             ],
             [
              0.3333333333333333,
              "#9c179e"
             ],
             [
              0.4444444444444444,
              "#bd3786"
             ],
             [
              0.5555555555555556,
              "#d8576b"
             ],
             [
              0.6666666666666666,
              "#ed7953"
             ],
             [
              0.7777777777777778,
              "#fb9f3a"
             ],
             [
              0.8888888888888888,
              "#fdca26"
             ],
             [
              1,
              "#f0f921"
             ]
            ],
            "type": "contour"
           }
          ],
          "contourcarpet": [
           {
            "colorbar": {
             "outlinewidth": 0,
             "ticks": ""
            },
            "type": "contourcarpet"
           }
          ],
          "heatmap": [
           {
            "colorbar": {
             "outlinewidth": 0,
             "ticks": ""
            },
            "colorscale": [
             [
              0,
              "#0d0887"
             ],
             [
              0.1111111111111111,
              "#46039f"
             ],
             [
              0.2222222222222222,
              "#7201a8"
             ],
             [
              0.3333333333333333,
              "#9c179e"
             ],
             [
              0.4444444444444444,
              "#bd3786"
             ],
             [
              0.5555555555555556,
              "#d8576b"
             ],
             [
              0.6666666666666666,
              "#ed7953"
             ],
             [
              0.7777777777777778,
              "#fb9f3a"
             ],
             [
              0.8888888888888888,
              "#fdca26"
             ],
             [
              1,
              "#f0f921"
             ]
            ],
            "type": "heatmap"
           }
          ],
          "heatmapgl": [
           {
            "colorbar": {
             "outlinewidth": 0,
             "ticks": ""
            },
            "colorscale": [
             [
              0,
              "#0d0887"
             ],
             [
              0.1111111111111111,
              "#46039f"
             ],
             [
              0.2222222222222222,
              "#7201a8"
             ],
             [
              0.3333333333333333,
              "#9c179e"
             ],
             [
              0.4444444444444444,
              "#bd3786"
             ],
             [
              0.5555555555555556,
              "#d8576b"
             ],
             [
              0.6666666666666666,
              "#ed7953"
             ],
             [
              0.7777777777777778,
              "#fb9f3a"
             ],
             [
              0.8888888888888888,
              "#fdca26"
             ],
             [
              1,
              "#f0f921"
             ]
            ],
            "type": "heatmapgl"
           }
          ],
          "histogram": [
           {
            "marker": {
             "pattern": {
              "fillmode": "overlay",
              "size": 10,
              "solidity": 0.2
             }
            },
            "type": "histogram"
           }
          ],
          "histogram2d": [
           {
            "colorbar": {
             "outlinewidth": 0,
             "ticks": ""
            },
            "colorscale": [
             [
              0,
              "#0d0887"
             ],
             [
              0.1111111111111111,
              "#46039f"
             ],
             [
              0.2222222222222222,
              "#7201a8"
             ],
             [
              0.3333333333333333,
              "#9c179e"
             ],
             [
              0.4444444444444444,
              "#bd3786"
             ],
             [
              0.5555555555555556,
              "#d8576b"
             ],
             [
              0.6666666666666666,
              "#ed7953"
             ],
             [
              0.7777777777777778,
              "#fb9f3a"
             ],
             [
              0.8888888888888888,
              "#fdca26"
             ],
             [
              1,
              "#f0f921"
             ]
            ],
            "type": "histogram2d"
           }
          ],
          "histogram2dcontour": [
           {
            "colorbar": {
             "outlinewidth": 0,
             "ticks": ""
            },
            "colorscale": [
             [
              0,
              "#0d0887"
             ],
             [
              0.1111111111111111,
              "#46039f"
             ],
             [
              0.2222222222222222,
              "#7201a8"
             ],
             [
              0.3333333333333333,
              "#9c179e"
             ],
             [
              0.4444444444444444,
              "#bd3786"
             ],
             [
              0.5555555555555556,
              "#d8576b"
             ],
             [
              0.6666666666666666,
              "#ed7953"
             ],
             [
              0.7777777777777778,
              "#fb9f3a"
             ],
             [
              0.8888888888888888,
              "#fdca26"
             ],
             [
              1,
              "#f0f921"
             ]
            ],
            "type": "histogram2dcontour"
           }
          ],
          "mesh3d": [
           {
            "colorbar": {
             "outlinewidth": 0,
             "ticks": ""
            },
            "type": "mesh3d"
           }
          ],
          "parcoords": [
           {
            "line": {
             "colorbar": {
              "outlinewidth": 0,
              "ticks": ""
             }
            },
            "type": "parcoords"
           }
          ],
          "pie": [
           {
            "automargin": true,
            "type": "pie"
           }
          ],
          "scatter": [
           {
            "fillpattern": {
             "fillmode": "overlay",
             "size": 10,
             "solidity": 0.2
            },
            "type": "scatter"
           }
          ],
          "scatter3d": [
           {
            "line": {
             "colorbar": {
              "outlinewidth": 0,
              "ticks": ""
             }
            },
            "marker": {
             "colorbar": {
              "outlinewidth": 0,
              "ticks": ""
             }
            },
            "type": "scatter3d"
           }
          ],
          "scattercarpet": [
           {
            "marker": {
             "colorbar": {
              "outlinewidth": 0,
              "ticks": ""
             }
            },
            "type": "scattercarpet"
           }
          ],
          "scattergeo": [
           {
            "marker": {
             "colorbar": {
              "outlinewidth": 0,
              "ticks": ""
             }
            },
            "type": "scattergeo"
           }
          ],
          "scattergl": [
           {
            "marker": {
             "colorbar": {
              "outlinewidth": 0,
              "ticks": ""
             }
            },
            "type": "scattergl"
           }
          ],
          "scattermapbox": [
           {
            "marker": {
             "colorbar": {
              "outlinewidth": 0,
              "ticks": ""
             }
            },
            "type": "scattermapbox"
           }
          ],
          "scatterpolar": [
           {
            "marker": {
             "colorbar": {
              "outlinewidth": 0,
              "ticks": ""
             }
            },
            "type": "scatterpolar"
           }
          ],
          "scatterpolargl": [
           {
            "marker": {
             "colorbar": {
              "outlinewidth": 0,
              "ticks": ""
             }
            },
            "type": "scatterpolargl"
           }
          ],
          "scatterternary": [
           {
            "marker": {
             "colorbar": {
              "outlinewidth": 0,
              "ticks": ""
             }
            },
            "type": "scatterternary"
           }
          ],
          "surface": [
           {
            "colorbar": {
             "outlinewidth": 0,
             "ticks": ""
            },
            "colorscale": [
             [
              0,
              "#0d0887"
             ],
             [
              0.1111111111111111,
              "#46039f"
             ],
             [
              0.2222222222222222,
              "#7201a8"
             ],
             [
              0.3333333333333333,
              "#9c179e"
             ],
             [
              0.4444444444444444,
              "#bd3786"
             ],
             [
              0.5555555555555556,
              "#d8576b"
             ],
             [
              0.6666666666666666,
              "#ed7953"
             ],
             [
              0.7777777777777778,
              "#fb9f3a"
             ],
             [
              0.8888888888888888,
              "#fdca26"
             ],
             [
              1,
              "#f0f921"
             ]
            ],
            "type": "surface"
           }
          ],
          "table": [
           {
            "cells": {
             "fill": {
              "color": "#EBF0F8"
             },
             "line": {
              "color": "white"
             }
            },
            "header": {
             "fill": {
              "color": "#C8D4E3"
             },
             "line": {
              "color": "white"
             }
            },
            "type": "table"
           }
          ]
         },
         "layout": {
          "annotationdefaults": {
           "arrowcolor": "#2a3f5f",
           "arrowhead": 0,
           "arrowwidth": 1
          },
          "autotypenumbers": "strict",
          "coloraxis": {
           "colorbar": {
            "outlinewidth": 0,
            "ticks": ""
           }
          },
          "colorscale": {
           "diverging": [
            [
             0,
             "#8e0152"
            ],
            [
             0.1,
             "#c51b7d"
            ],
            [
             0.2,
             "#de77ae"
            ],
            [
             0.3,
             "#f1b6da"
            ],
            [
             0.4,
             "#fde0ef"
            ],
            [
             0.5,
             "#f7f7f7"
            ],
            [
             0.6,
             "#e6f5d0"
            ],
            [
             0.7,
             "#b8e186"
            ],
            [
             0.8,
             "#7fbc41"
            ],
            [
             0.9,
             "#4d9221"
            ],
            [
             1,
             "#276419"
            ]
           ],
           "sequential": [
            [
             0,
             "#0d0887"
            ],
            [
             0.1111111111111111,
             "#46039f"
            ],
            [
             0.2222222222222222,
             "#7201a8"
            ],
            [
             0.3333333333333333,
             "#9c179e"
            ],
            [
             0.4444444444444444,
             "#bd3786"
            ],
            [
             0.5555555555555556,
             "#d8576b"
            ],
            [
             0.6666666666666666,
             "#ed7953"
            ],
            [
             0.7777777777777778,
             "#fb9f3a"
            ],
            [
             0.8888888888888888,
             "#fdca26"
            ],
            [
             1,
             "#f0f921"
            ]
           ],
           "sequentialminus": [
            [
             0,
             "#0d0887"
            ],
            [
             0.1111111111111111,
             "#46039f"
            ],
            [
             0.2222222222222222,
             "#7201a8"
            ],
            [
             0.3333333333333333,
             "#9c179e"
            ],
            [
             0.4444444444444444,
             "#bd3786"
            ],
            [
             0.5555555555555556,
             "#d8576b"
            ],
            [
             0.6666666666666666,
             "#ed7953"
            ],
            [
             0.7777777777777778,
             "#fb9f3a"
            ],
            [
             0.8888888888888888,
             "#fdca26"
            ],
            [
             1,
             "#f0f921"
            ]
           ]
          },
          "colorway": [
           "#636efa",
           "#EF553B",
           "#00cc96",
           "#ab63fa",
           "#FFA15A",
           "#19d3f3",
           "#FF6692",
           "#B6E880",
           "#FF97FF",
           "#FECB52"
          ],
          "font": {
           "color": "#2a3f5f"
          },
          "geo": {
           "bgcolor": "white",
           "lakecolor": "white",
           "landcolor": "#E5ECF6",
           "showlakes": true,
           "showland": true,
           "subunitcolor": "white"
          },
          "hoverlabel": {
           "align": "left"
          },
          "hovermode": "closest",
          "mapbox": {
           "style": "light"
          },
          "paper_bgcolor": "white",
          "plot_bgcolor": "#E5ECF6",
          "polar": {
           "angularaxis": {
            "gridcolor": "white",
            "linecolor": "white",
            "ticks": ""
           },
           "bgcolor": "#E5ECF6",
           "radialaxis": {
            "gridcolor": "white",
            "linecolor": "white",
            "ticks": ""
           }
          },
          "scene": {
           "xaxis": {
            "backgroundcolor": "#E5ECF6",
            "gridcolor": "white",
            "gridwidth": 2,
            "linecolor": "white",
            "showbackground": true,
            "ticks": "",
            "zerolinecolor": "white"
           },
           "yaxis": {
            "backgroundcolor": "#E5ECF6",
            "gridcolor": "white",
            "gridwidth": 2,
            "linecolor": "white",
            "showbackground": true,
            "ticks": "",
            "zerolinecolor": "white"
           },
           "zaxis": {
            "backgroundcolor": "#E5ECF6",
            "gridcolor": "white",
            "gridwidth": 2,
            "linecolor": "white",
            "showbackground": true,
            "ticks": "",
            "zerolinecolor": "white"
           }
          },
          "shapedefaults": {
           "line": {
            "color": "#2a3f5f"
           }
          },
          "ternary": {
           "aaxis": {
            "gridcolor": "white",
            "linecolor": "white",
            "ticks": ""
           },
           "baxis": {
            "gridcolor": "white",
            "linecolor": "white",
            "ticks": ""
           },
           "bgcolor": "#E5ECF6",
           "caxis": {
            "gridcolor": "white",
            "linecolor": "white",
            "ticks": ""
           }
          },
          "title": {
           "x": 0.05
          },
          "xaxis": {
           "automargin": true,
           "gridcolor": "white",
           "linecolor": "white",
           "ticks": "",
           "title": {
            "standoff": 15
           },
           "zerolinecolor": "white",
           "zerolinewidth": 2
          },
          "yaxis": {
           "automargin": true,
           "gridcolor": "white",
           "linecolor": "white",
           "ticks": "",
           "title": {
            "standoff": 15
           },
           "zerolinecolor": "white",
           "zerolinewidth": 2
          }
         }
        },
        "title": {
         "text": "Profit per State",
         "x": 0.5,
         "y": 0.95
        }
       }
      }
     },
     "metadata": {},
     "output_type": "display_data"
    }
   ],
   "source": [
    "#Create choropleth graph\n",
    "\n",
    "fig = go.Figure(data=go.Choropleth(\n",
    "    # locations= df_for_map['state_abb'].value_counts().index,\n",
    "    # z = df_for_map['state_abb'].value_counts(),\n",
    "    locations = df_per_state['Profit'].index,\n",
    "    z = df_per_state['Profit'],\n",
    "    locationmode = 'USA-states',\n",
    "    # colorscale = [[0, 'rgb(237, 62, 62)'], [1, 'rgb(0, 207, 133)']],\n",
    "    colorscale = [\"rgb(255, 77, 77)\", \"rgb(210, 231, 154)\", \"rgb(94, 179, 39)\", \"rgb(67, 136, 33)\"], #\"rgb(33, 74, 12)\"\n",
    "    # color_continuous_midpoint = 0,\n",
    "    zmin=-30000, zmid=0, zmax=60000\n",
    "))\n",
    "\n",
    "fig.update_layout(\n",
    "    font = dict(\n",
    "            size = 14\n",
    "            ),    \n",
    "    title={\n",
    "        'text': \"Profit per State\",\n",
    "        'y':0.95,\n",
    "        'x':0.5\n",
    "        },\n",
    "    geo_scope='usa',\n",
    ")\n",
    "\n",
    "fig.show()"
   ]
  },
  {
   "cell_type": "markdown",
   "metadata": {},
   "source": [
    "Berdasarkan graphic map diatas, dapat terlihat bahwa state atau negara bagian yang menghasilkan profit terbesar adalah California, New York dan Wasingthon. Sedangkan untuk negara bagian yang penjualannya merugi adalah Texas, Ohio, Pennsylvania dan lainnya. Hal ini dapat digunakan sebagai bahan evaluasi kembali mengapa pada beberapa negara bagian bisa sampai rugi dan bagaimana mengatasinya. Sedangkan untuk negara bagian yang profitnya tinggi dapat dipertahankan atau terus ditingkatkan."
   ]
  },
  {
   "cell_type": "markdown",
   "metadata": {},
   "source": [
    "## 5.2 Segmen pelanggan mana yang memberikan profit tertinggi untuk perusahaan ?"
   ]
  },
  {
   "cell_type": "code",
   "execution_count": 594,
   "metadata": {},
   "outputs": [
    {
     "data": {
      "text/html": [
       "<div>\n",
       "<style scoped>\n",
       "    .dataframe tbody tr th:only-of-type {\n",
       "        vertical-align: middle;\n",
       "    }\n",
       "\n",
       "    .dataframe tbody tr th {\n",
       "        vertical-align: top;\n",
       "    }\n",
       "\n",
       "    .dataframe thead th {\n",
       "        text-align: right;\n",
       "    }\n",
       "</style>\n",
       "<table border=\"1\" class=\"dataframe\">\n",
       "  <thead>\n",
       "    <tr style=\"text-align: right;\">\n",
       "      <th></th>\n",
       "      <th>Segment</th>\n",
       "      <th>Profit</th>\n",
       "    </tr>\n",
       "  </thead>\n",
       "  <tbody>\n",
       "    <tr>\n",
       "      <th>0</th>\n",
       "      <td>Consumer</td>\n",
       "      <td>134119.21</td>\n",
       "    </tr>\n",
       "    <tr>\n",
       "      <th>1</th>\n",
       "      <td>Corporate</td>\n",
       "      <td>91979.13</td>\n",
       "    </tr>\n",
       "    <tr>\n",
       "      <th>2</th>\n",
       "      <td>Home Office</td>\n",
       "      <td>60310.74</td>\n",
       "    </tr>\n",
       "  </tbody>\n",
       "</table>\n",
       "</div>"
      ],
      "text/plain": [
       "       Segment     Profit\n",
       "0     Consumer  134119.21\n",
       "1    Corporate   91979.13\n",
       "2  Home Office   60310.74"
      ]
     },
     "execution_count": 594,
     "metadata": {},
     "output_type": "execute_result"
    }
   ],
   "source": [
    "#Sum profit per customer segment\n",
    "\n",
    "# df_segment_profit = df.groupby(['Segment', 'Category']).agg({'Profit':'sum'}) #.sort_values(by=['Profit'], ascending=False)\n",
    "df_segment_profit = df.groupby(['Segment']).agg({'Profit':'sum'}).sort_values(by=['Profit'], ascending=False).reset_index()\n",
    "df_segment_profit"
   ]
  },
  {
   "cell_type": "code",
   "execution_count": 595,
   "metadata": {},
   "outputs": [
    {
     "data": {
      "image/png": "[encoded data removed]",
      "text/plain": [
       "<Figure size 640x480 with 1 Axes>"
      ]
     },
     "metadata": {},
     "output_type": "display_data"
    }
   ],
   "source": [
    "#Create bar graph for profit by segment customer\n",
    "\n",
    "#df_segment_profit = df.groupby(['Segment', 'Category']).agg({'Profit':'sum'}).reset_index()\n",
    "#sns.barplot(data=df_segment_profit, x='Segment', y='Profit', orient='v', hue='Category')\n",
    "# plt.legend(bbox_to_anchor=(1,1))\n",
    "ax = sns.barplot(data=df_segment_profit, x='Segment', y='Profit', orient='v')\n",
    "ax.bar_label(ax.containers[0])\n",
    "ax.set(title=\"Profit for Each Segment Customer\")\n",
    "plt.show()"
   ]
  },
  {
   "cell_type": "markdown",
   "metadata": {},
   "source": [
    "Dari bar graphic diatas dapat terlihat bahwa segmen pelanggan _Consumer_ memberikan profit terbesar untuk perusahaan yaitu senilai 134,119 USD, sedangkan home office memberikan profit paling rendah bagi perusahaan sebesar 60,310.7 USD. Informasi ini dapat digunakan untuk bahan pertimbangan kedepannya jika akan menjual sebuah produk baru, dapat mentargetkan segment consumer terlebih dahulu untuk meningkatkan profit paling tinggi. "
   ]
  },
  {
   "cell_type": "markdown",
   "metadata": {},
   "source": [
    "## 5.3 Kategori produk mana yang memberikan profit tertinggi untuk perusahaan ?"
   ]
  },
  {
   "cell_type": "code",
   "execution_count": 596,
   "metadata": {},
   "outputs": [
    {
     "data": {
      "text/html": [
       "<div>\n",
       "<style scoped>\n",
       "    .dataframe tbody tr th:only-of-type {\n",
       "        vertical-align: middle;\n",
       "    }\n",
       "\n",
       "    .dataframe tbody tr th {\n",
       "        vertical-align: top;\n",
       "    }\n",
       "\n",
       "    .dataframe thead th {\n",
       "        text-align: right;\n",
       "    }\n",
       "</style>\n",
       "<table border=\"1\" class=\"dataframe\">\n",
       "  <thead>\n",
       "    <tr style=\"text-align: right;\">\n",
       "      <th></th>\n",
       "      <th>Category</th>\n",
       "      <th>Profit</th>\n",
       "    </tr>\n",
       "  </thead>\n",
       "  <tbody>\n",
       "    <tr>\n",
       "      <th>0</th>\n",
       "      <td>Furniture</td>\n",
       "      <td>18463.33</td>\n",
       "    </tr>\n",
       "    <tr>\n",
       "      <th>1</th>\n",
       "      <td>Office Supplies</td>\n",
       "      <td>122490.80</td>\n",
       "    </tr>\n",
       "    <tr>\n",
       "      <th>2</th>\n",
       "      <td>Technology</td>\n",
       "      <td>145454.95</td>\n",
       "    </tr>\n",
       "  </tbody>\n",
       "</table>\n",
       "</div>"
      ],
      "text/plain": [
       "          Category     Profit\n",
       "0        Furniture   18463.33\n",
       "1  Office Supplies  122490.80\n",
       "2       Technology  145454.95"
      ]
     },
     "execution_count": 596,
     "metadata": {},
     "output_type": "execute_result"
    }
   ],
   "source": [
    "#Sum profit per Category product\n",
    "\n",
    "df_product_profit = df.groupby(['Category']).agg({'Profit':'sum'}).reset_index()#.sort_values(by=['Profit'], ascending=False).reset_index()\n",
    "df_product_profit"
   ]
  },
  {
   "cell_type": "code",
   "execution_count": 597,
   "metadata": {},
   "outputs": [
    {
     "data": {
      "image/png": "[encoded data removed]",
      "text/plain": [
       "<Figure size 640x480 with 1 Axes>"
      ]
     },
     "metadata": {},
     "output_type": "display_data"
    }
   ],
   "source": [
    "#Create bar graph for profit for by product category\n",
    "\n",
    "ax = sns.barplot(data=df_product_profit, x='Category', y='Profit', orient='v')\n",
    "ax.bar_label(ax.containers[0])\n",
    "ax.set(title=\"Profit for Each Product Category\")\n",
    "plt.show()"
   ]
  },
  {
   "cell_type": "markdown",
   "metadata": {},
   "source": [
    "Dari bar graphic diatas dapat terlihat bahwa kategori produk teknologi memberikan profit terbesar untuk perusahaan dengan nilai profit sebesar 145,455 USD, sebaliknya kategori product furniture memberikan profit yang paling sedikit dengan nilai 18,463.3 USD. Informasi dapat digunakan untuk bahan pertimbangan jika akan menjual sebuah produk baru, maka kategori teknologi adalah yang paling menguntungkan. Atau jika ingin meningkatkan profit dapat mengevaluasi kembali mengapa kategori furniture profitnya rendah, apakah produk tersebut tidak laku atau memang profitnya yang rendah."
   ]
  },
  {
   "cell_type": "markdown",
   "metadata": {},
   "source": [
    "## 5.4 Apakah terdapat Sub-Kategori produk yang mengurangi profit perusahaan ?"
   ]
  },
  {
   "cell_type": "code",
   "execution_count": 57,
   "metadata": {},
   "outputs": [
    {
     "data": {
      "text/html": [
       "<div>\n",
       "<style scoped>\n",
       "    .dataframe tbody tr th:only-of-type {\n",
       "        vertical-align: middle;\n",
       "    }\n",
       "\n",
       "    .dataframe tbody tr th {\n",
       "        vertical-align: top;\n",
       "    }\n",
       "\n",
       "    .dataframe thead th {\n",
       "        text-align: right;\n",
       "    }\n",
       "</style>\n",
       "<table border=\"1\" class=\"dataframe\">\n",
       "  <thead>\n",
       "    <tr style=\"text-align: right;\">\n",
       "      <th></th>\n",
       "      <th></th>\n",
       "      <th>Profit</th>\n",
       "    </tr>\n",
       "    <tr>\n",
       "      <th>Category</th>\n",
       "      <th>Sub-Category</th>\n",
       "      <th></th>\n",
       "    </tr>\n",
       "  </thead>\n",
       "  <tbody>\n",
       "    <tr>\n",
       "      <th rowspan=\"4\" valign=\"top\">Furniture</th>\n",
       "      <th>Chairs</th>\n",
       "      <td>26602.23</td>\n",
       "    </tr>\n",
       "    <tr>\n",
       "      <th>Furnishings</th>\n",
       "      <td>13059.14</td>\n",
       "    </tr>\n",
       "    <tr>\n",
       "      <th>Bookcases</th>\n",
       "      <td>-3472.56</td>\n",
       "    </tr>\n",
       "    <tr>\n",
       "      <th>Tables</th>\n",
       "      <td>-17725.48</td>\n",
       "    </tr>\n",
       "    <tr>\n",
       "      <th rowspan=\"9\" valign=\"top\">Office Supplies</th>\n",
       "      <th>Paper</th>\n",
       "      <td>34053.57</td>\n",
       "    </tr>\n",
       "    <tr>\n",
       "      <th>Binders</th>\n",
       "      <td>30221.76</td>\n",
       "    </tr>\n",
       "    <tr>\n",
       "      <th>Storage</th>\n",
       "      <td>21278.83</td>\n",
       "    </tr>\n",
       "    <tr>\n",
       "      <th>Appliances</th>\n",
       "      <td>18138.01</td>\n",
       "    </tr>\n",
       "    <tr>\n",
       "      <th>Envelopes</th>\n",
       "      <td>6964.18</td>\n",
       "    </tr>\n",
       "    <tr>\n",
       "      <th>Art</th>\n",
       "      <td>6527.79</td>\n",
       "    </tr>\n",
       "    <tr>\n",
       "      <th>Labels</th>\n",
       "      <td>5546.25</td>\n",
       "    </tr>\n",
       "    <tr>\n",
       "      <th>Fasteners</th>\n",
       "      <td>949.52</td>\n",
       "    </tr>\n",
       "    <tr>\n",
       "      <th>Supplies</th>\n",
       "      <td>-1189.10</td>\n",
       "    </tr>\n",
       "    <tr>\n",
       "      <th rowspan=\"4\" valign=\"top\">Technology</th>\n",
       "      <th>Copiers</th>\n",
       "      <td>55617.82</td>\n",
       "    </tr>\n",
       "    <tr>\n",
       "      <th>Phones</th>\n",
       "      <td>44515.73</td>\n",
       "    </tr>\n",
       "    <tr>\n",
       "      <th>Accessories</th>\n",
       "      <td>41936.64</td>\n",
       "    </tr>\n",
       "    <tr>\n",
       "      <th>Machines</th>\n",
       "      <td>3384.76</td>\n",
       "    </tr>\n",
       "  </tbody>\n",
       "</table>\n",
       "</div>"
      ],
      "text/plain": [
       "                                Profit\n",
       "Category        Sub-Category          \n",
       "Furniture       Chairs        26602.23\n",
       "                Furnishings   13059.14\n",
       "                Bookcases     -3472.56\n",
       "                Tables       -17725.48\n",
       "Office Supplies Paper         34053.57\n",
       "                Binders       30221.76\n",
       "                Storage       21278.83\n",
       "                Appliances    18138.01\n",
       "                Envelopes      6964.18\n",
       "                Art            6527.79\n",
       "                Labels         5546.25\n",
       "                Fasteners       949.52\n",
       "                Supplies      -1189.10\n",
       "Technology      Copiers       55617.82\n",
       "                Phones        44515.73\n",
       "                Accessories   41936.64\n",
       "                Machines       3384.76"
      ]
     },
     "execution_count": 57,
     "metadata": {},
     "output_type": "execute_result"
    }
   ],
   "source": [
    "#Sum profit per Sub-Category\n",
    "\n",
    "df_sub_category = df.groupby(['Category', 'Sub-Category']).agg({'Profit':'sum'}).sort_values(['Category', 'Profit'], ascending = [True, False]) #.reset_index()\n",
    "df_sub_category"
   ]
  },
  {
   "cell_type": "code",
   "execution_count": 59,
   "metadata": {},
   "outputs": [],
   "source": [
    "df_sub_category = df_sub_category.reset_index()"
   ]
  },
  {
   "cell_type": "code",
   "execution_count": 60,
   "metadata": {},
   "outputs": [
    {
     "data": {
      "image/png": "[encoded data removed]",
      "text/plain": [
       "<Figure size 1000x600 with 1 Axes>"
      ]
     },
     "metadata": {},
     "output_type": "display_data"
    }
   ],
   "source": [
    "#Create bar plot for profit by sub-product category\n",
    "\n",
    "plt.figure(figsize=(10, 6))\n",
    "ax = sns.barplot(data=df_sub_category, x='Profit', y='Sub-Category', orient='h', hue='Category')\n",
    "ax.set(title=\"Profit for Each Sub-Product Category\")\n",
    "plt.legend(loc=1)\n",
    "plt.show()"
   ]
  },
  {
   "cell_type": "code",
   "execution_count": null,
   "metadata": {},
   "outputs": [],
   "source": [
    "# plt.barh(df_sub_category['Sub-Category'][::-1], df_sub_category['Profit'][::-1])\n",
    "# plt.title(\"Profit Percentage\")"
   ]
  },
  {
   "cell_type": "markdown",
   "metadata": {},
   "source": [
    "Dari bar graphic diatas, dapat dilihat bahwa ada beberapa sub-category yang mengalami kerugian. Sub-category pada category Furniture khususnya sub-category tables mengalami kerugian terbesar, hal ini yang menyebabkan mengapa profit untuk category furniture adalah yang paling kecil pada analisa profit per kategori. Hal ini bisa dijadikan bahan evaluasi mengapa bisa terjadi kerugian, apakah karena barang tidak laku sehingga dijual dengan harga murah (diberi diskon yang besar) untuk meminimalisir kerugian. Dan menjadi pertimbangan untuk tahun berikutnya apakah sub-category ini masih perlu dilanjutkan penjualannya atau tidak."
   ]
  },
  {
   "cell_type": "markdown",
   "metadata": {},
   "source": [
    "## 5.5 Kategori produk mana yang paling laku terjual ?"
   ]
  },
  {
   "cell_type": "code",
   "execution_count": 46,
   "metadata": {},
   "outputs": [
    {
     "data": {
      "text/html": [
       "<div>\n",
       "<style scoped>\n",
       "    .dataframe tbody tr th:only-of-type {\n",
       "        vertical-align: middle;\n",
       "    }\n",
       "\n",
       "    .dataframe tbody tr th {\n",
       "        vertical-align: top;\n",
       "    }\n",
       "\n",
       "    .dataframe thead th {\n",
       "        text-align: right;\n",
       "    }\n",
       "</style>\n",
       "<table border=\"1\" class=\"dataframe\">\n",
       "  <thead>\n",
       "    <tr style=\"text-align: right;\">\n",
       "      <th></th>\n",
       "      <th>Sold</th>\n",
       "      <th>Profit</th>\n",
       "    </tr>\n",
       "    <tr>\n",
       "      <th>Category</th>\n",
       "      <th></th>\n",
       "      <th></th>\n",
       "    </tr>\n",
       "  </thead>\n",
       "  <tbody>\n",
       "    <tr>\n",
       "      <th>Furniture</th>\n",
       "      <td>8026</td>\n",
       "      <td>18463.33</td>\n",
       "    </tr>\n",
       "    <tr>\n",
       "      <th>Office Supplies</th>\n",
       "      <td>22906</td>\n",
       "      <td>122490.80</td>\n",
       "    </tr>\n",
       "    <tr>\n",
       "      <th>Technology</th>\n",
       "      <td>6939</td>\n",
       "      <td>145454.95</td>\n",
       "    </tr>\n",
       "  </tbody>\n",
       "</table>\n",
       "</div>"
      ],
      "text/plain": [
       "                  Sold     Profit\n",
       "Category                         \n",
       "Furniture         8026   18463.33\n",
       "Office Supplies  22906  122490.80\n",
       "Technology        6939  145454.95"
      ]
     },
     "execution_count": 46,
     "metadata": {},
     "output_type": "execute_result"
    }
   ],
   "source": [
    "#Sum quantity product sold per product category\n",
    "\n",
    "df_product_category = df.groupby(['Category']).agg(Sold=('Quantity', 'sum'), Profit=('Profit', 'sum')) #.sort_values(by=['Sold'], ascending=False)\n",
    "df_product_category"
   ]
  },
  {
   "cell_type": "code",
   "execution_count": 58,
   "metadata": {},
   "outputs": [
    {
     "data": {
      "image/png": "[encoded data removed]",
      "text/plain": [
       "<Figure size 1200x400 with 2 Axes>"
      ]
     },
     "metadata": {},
     "output_type": "display_data"
    }
   ],
   "source": [
    "#Create pie chart for best selling product\n",
    "\n",
    "fig, ax = plt.subplots(ncols=2, figsize=(12, 4))\n",
    "# df_product_category.plot(kind='pie', autopct='%.2f%%',ax=ax1)\n",
    "# palette_color = sns.color_palette('bright')\n",
    "# plt.pie(df_product_category['Sold'], labels=df_product_category['Sold'].index, colors=palette_color, autopct='%.2f%%')\n",
    "# plt.pie(df_product_category['Sold'], labels=df_product_category['Sold'].index, autopct='%.2f%%')\n",
    "# plt.title('Best Selling Product Category')\n",
    "\n",
    "ax[0].pie(df_product_category[\"Sold\"], labels=df_product_category[\"Sold\"].index, autopct='%.1f%%')\n",
    "ax[0].set_title(\"Best Selling Product by Category\")\n",
    "\n",
    "ax[1].pie(df_product_category[\"Profit\"], labels=df_product_category[\"Sold\"].index, autopct='%.1f%%')\n",
    "ax[1].set_title(\"Product Profit by Category\")\n",
    "plt.show()"
   ]
  },
  {
   "cell_type": "markdown",
   "metadata": {},
   "source": [
    "Dari pie chart diatas dapat terlihat bahwa kategori produk perusahaan yang paling laku adalah office supplies dengan penjualan sebanyak lebih dari 60% dari seluruh penjualan perusahaan. Sedangkan penjualan kategori furniture sebesar 21.21% dan kategori teknologi sebesar 18.48%. Apakah produk yang paling laku juga memberikan keuntungan yang besar bagi perusahaan ?"
   ]
  },
  {
   "cell_type": "code",
   "execution_count": 561,
   "metadata": {},
   "outputs": [
    {
     "data": {
      "text/html": [
       "<div>\n",
       "<style scoped>\n",
       "    .dataframe tbody tr th:only-of-type {\n",
       "        vertical-align: middle;\n",
       "    }\n",
       "\n",
       "    .dataframe tbody tr th {\n",
       "        vertical-align: top;\n",
       "    }\n",
       "\n",
       "    .dataframe thead th {\n",
       "        text-align: right;\n",
       "    }\n",
       "</style>\n",
       "<table border=\"1\" class=\"dataframe\">\n",
       "  <thead>\n",
       "    <tr style=\"text-align: right;\">\n",
       "      <th></th>\n",
       "      <th>Product_Sold</th>\n",
       "      <th>Profit</th>\n",
       "    </tr>\n",
       "    <tr>\n",
       "      <th>Category</th>\n",
       "      <th></th>\n",
       "      <th></th>\n",
       "    </tr>\n",
       "  </thead>\n",
       "  <tbody>\n",
       "    <tr>\n",
       "      <th>Technology</th>\n",
       "      <td>1847</td>\n",
       "      <td>145454.95</td>\n",
       "    </tr>\n",
       "    <tr>\n",
       "      <th>Office Supplies</th>\n",
       "      <td>6026</td>\n",
       "      <td>122490.80</td>\n",
       "    </tr>\n",
       "    <tr>\n",
       "      <th>Furniture</th>\n",
       "      <td>2120</td>\n",
       "      <td>18463.33</td>\n",
       "    </tr>\n",
       "  </tbody>\n",
       "</table>\n",
       "</div>"
      ],
      "text/plain": [
       "                 Product_Sold     Profit\n",
       "Category                                \n",
       "Technology               1847  145454.95\n",
       "Office Supplies          6026  122490.80\n",
       "Furniture                2120   18463.33"
      ]
     },
     "execution_count": 561,
     "metadata": {},
     "output_type": "execute_result"
    }
   ],
   "source": [
    "df_product_category_profit = df.groupby(['Category']).agg(Product_Sold=('Category', 'count'), Profit=('Profit', 'sum')).sort_values(by=['Profit'], ascending=False)\n",
    "df_product_category_profit"
   ]
  },
  {
   "cell_type": "markdown",
   "metadata": {},
   "source": [
    "Meskipun penjualan office supplies adalah yang terbanyak, tetapi jika melihat pada analisa sebelumnya pada poin 5.3, profit yang didapat dari penjualan office supplies tidak sebesar kategori teknologi yang jumlah penjualannya hanya sekitar 30% dari offices supplies. Maka perusahaan perlu meningkatkan harga jual atau mengurangi cost pada kategori office supplies untuk meningkatkan profit, karena penjualan produk ini sudah bagus hanya saja profitnya perlu ditingkatkan."
   ]
  },
  {
   "cell_type": "markdown",
   "metadata": {},
   "source": [
    "## 5.6 Bagaimana profit perusahaan dalam 4 tahun terakhir di setiap region ?"
   ]
  },
  {
   "cell_type": "code",
   "execution_count": 59,
   "metadata": {},
   "outputs": [
    {
     "data": {
      "text/html": [
       "<div>\n",
       "<style scoped>\n",
       "    .dataframe tbody tr th:only-of-type {\n",
       "        vertical-align: middle;\n",
       "    }\n",
       "\n",
       "    .dataframe tbody tr th {\n",
       "        vertical-align: top;\n",
       "    }\n",
       "\n",
       "    .dataframe thead th {\n",
       "        text-align: right;\n",
       "    }\n",
       "</style>\n",
       "<table border=\"1\" class=\"dataframe\">\n",
       "  <thead>\n",
       "    <tr style=\"text-align: right;\">\n",
       "      <th></th>\n",
       "      <th></th>\n",
       "      <th>Profit</th>\n",
       "    </tr>\n",
       "    <tr>\n",
       "      <th>Region</th>\n",
       "      <th>Year</th>\n",
       "      <th></th>\n",
       "    </tr>\n",
       "  </thead>\n",
       "  <tbody>\n",
       "    <tr>\n",
       "      <th rowspan=\"4\" valign=\"top\">Central</th>\n",
       "      <th>2014</th>\n",
       "      <td>539.55</td>\n",
       "    </tr>\n",
       "    <tr>\n",
       "      <th>2015</th>\n",
       "      <td>11716.80</td>\n",
       "    </tr>\n",
       "    <tr>\n",
       "      <th>2016</th>\n",
       "      <td>19899.16</td>\n",
       "    </tr>\n",
       "    <tr>\n",
       "      <th>2017</th>\n",
       "      <td>7550.84</td>\n",
       "    </tr>\n",
       "    <tr>\n",
       "      <th rowspan=\"4\" valign=\"top\">East</th>\n",
       "      <th>2014</th>\n",
       "      <td>17071.67</td>\n",
       "    </tr>\n",
       "    <tr>\n",
       "      <th>2015</th>\n",
       "      <td>21091.01</td>\n",
       "    </tr>\n",
       "    <tr>\n",
       "      <th>2016</th>\n",
       "      <td>20141.60</td>\n",
       "    </tr>\n",
       "    <tr>\n",
       "      <th>2017</th>\n",
       "      <td>33230.56</td>\n",
       "    </tr>\n",
       "    <tr>\n",
       "      <th rowspan=\"4\" valign=\"top\">South</th>\n",
       "      <th>2014</th>\n",
       "      <td>11879.12</td>\n",
       "    </tr>\n",
       "    <tr>\n",
       "      <th>2015</th>\n",
       "      <td>8318.59</td>\n",
       "    </tr>\n",
       "    <tr>\n",
       "      <th>2016</th>\n",
       "      <td>17702.81</td>\n",
       "    </tr>\n",
       "    <tr>\n",
       "      <th>2017</th>\n",
       "      <td>8848.91</td>\n",
       "    </tr>\n",
       "    <tr>\n",
       "      <th rowspan=\"4\" valign=\"top\">West</th>\n",
       "      <th>2014</th>\n",
       "      <td>20065.69</td>\n",
       "    </tr>\n",
       "    <tr>\n",
       "      <th>2015</th>\n",
       "      <td>20492.19</td>\n",
       "    </tr>\n",
       "    <tr>\n",
       "      <th>2016</th>\n",
       "      <td>24051.61</td>\n",
       "    </tr>\n",
       "    <tr>\n",
       "      <th>2017</th>\n",
       "      <td>43808.96</td>\n",
       "    </tr>\n",
       "  </tbody>\n",
       "</table>\n",
       "</div>"
      ],
      "text/plain": [
       "                Profit\n",
       "Region  Year          \n",
       "Central 2014    539.55\n",
       "        2015  11716.80\n",
       "        2016  19899.16\n",
       "        2017   7550.84\n",
       "East    2014  17071.67\n",
       "        2015  21091.01\n",
       "        2016  20141.60\n",
       "        2017  33230.56\n",
       "South   2014  11879.12\n",
       "        2015   8318.59\n",
       "        2016  17702.81\n",
       "        2017   8848.91\n",
       "West    2014  20065.69\n",
       "        2015  20492.19\n",
       "        2016  24051.61\n",
       "        2017  43808.96"
      ]
     },
     "execution_count": 59,
     "metadata": {},
     "output_type": "execute_result"
    }
   ],
   "source": [
    "#Sum profit per region per year\n",
    "\n",
    "df_yearly_profit = df.copy()\n",
    "df_yearly_profit['Year'] = df_yearly_profit['Order Date'].dt.year\n",
    "df_yearly_profit.groupby(['Region', 'Year']).agg({'Profit':'sum'})#.reset_index()"
   ]
  },
  {
   "cell_type": "code",
   "execution_count": 60,
   "metadata": {},
   "outputs": [
    {
     "data": {
      "image/png": "[encoded data removed]",
      "text/plain": [
       "<Figure size 750.75x500 with 1 Axes>"
      ]
     },
     "metadata": {},
     "output_type": "display_data"
    }
   ],
   "source": [
    "#Create line graph for profit by year\n",
    "\n",
    "# df_yearly_profit['Year'] = pd.Categorical(df_yearly_profit['Year'], categories=['2014', '2015', '2016', '2017'], ordered=True)\n",
    "# df_yearly_profit['Year'] = pd.to_datetime(df_yearly_profit['Year'], format='%Y')\n",
    "df_yearly_profit['Year'] = df_yearly_profit['Year'].astype('str')\n",
    "sns.relplot(kind='line', data=df_yearly_profit.sort_values(by=\"Year\"), x='Year', y='Profit', hue='Region', aspect=1.3, marker='o', errorbar=None)\n",
    "plt.title('Profit for each Region by Year')\n",
    "plt.show()"
   ]
  },
  {
   "cell_type": "markdown",
   "metadata": {},
   "source": [
    "Berdasarkan line graph diatas, terjadi penurunan profit pada region central dan south pada satu tahun terakhir, sehingga perlu dilakukan evaluasi atau tindakan untuk meningkatkan profit ditahun selanjutnya pada kedua region ini. Sedangkan untuk region west dan east pada satu tahun terakhir mengalami kenaikan profit, ini perlu dipertahankan atau bahkan ditingkatkan kembali."
   ]
  },
  {
   "cell_type": "markdown",
   "metadata": {},
   "source": [
    "## 5.7 Apakah jumlah customer memiliki hubungan dengan profit yang didapat pada setiap negara bagian ? (Statistic - Descriptive)"
   ]
  },
  {
   "cell_type": "code",
   "execution_count": 61,
   "metadata": {},
   "outputs": [
    {
     "data": {
      "text/html": [
       "<div>\n",
       "<style scoped>\n",
       "    .dataframe tbody tr th:only-of-type {\n",
       "        vertical-align: middle;\n",
       "    }\n",
       "\n",
       "    .dataframe tbody tr th {\n",
       "        vertical-align: top;\n",
       "    }\n",
       "\n",
       "    .dataframe thead th {\n",
       "        text-align: right;\n",
       "    }\n",
       "</style>\n",
       "<table border=\"1\" class=\"dataframe\">\n",
       "  <thead>\n",
       "    <tr style=\"text-align: right;\">\n",
       "      <th></th>\n",
       "      <th>Total Customer</th>\n",
       "      <th>Profit</th>\n",
       "    </tr>\n",
       "    <tr>\n",
       "      <th>State</th>\n",
       "      <th></th>\n",
       "      <th></th>\n",
       "    </tr>\n",
       "  </thead>\n",
       "  <tbody>\n",
       "    <tr>\n",
       "      <th>Alabama</th>\n",
       "      <td>61</td>\n",
       "      <td>5786.83</td>\n",
       "    </tr>\n",
       "    <tr>\n",
       "      <th>Arizona</th>\n",
       "      <td>224</td>\n",
       "      <td>-3427.92</td>\n",
       "    </tr>\n",
       "    <tr>\n",
       "      <th>Arkansas</th>\n",
       "      <td>60</td>\n",
       "      <td>4008.69</td>\n",
       "    </tr>\n",
       "    <tr>\n",
       "      <th>California</th>\n",
       "      <td>2001</td>\n",
       "      <td>76381.39</td>\n",
       "    </tr>\n",
       "    <tr>\n",
       "      <th>Colorado</th>\n",
       "      <td>182</td>\n",
       "      <td>-6527.86</td>\n",
       "    </tr>\n",
       "  </tbody>\n",
       "</table>\n",
       "</div>"
      ],
      "text/plain": [
       "            Total Customer    Profit\n",
       "State                               \n",
       "Alabama                 61   5786.83\n",
       "Arizona                224  -3427.92\n",
       "Arkansas                60   4008.69\n",
       "California            2001  76381.39\n",
       "Colorado               182  -6527.86"
      ]
     },
     "execution_count": 61,
     "metadata": {},
     "output_type": "execute_result"
    }
   ],
   "source": [
    "#Count total customer and sum profit for each state\n",
    "\n",
    "df_cust_profit = df.groupby(['State']).agg({'Customer ID':'count', 'Profit':'sum'}).rename(columns= {'Customer ID':'Total Customer'})\n",
    "df_cust_profit.head()"
   ]
  },
  {
   "cell_type": "code",
   "execution_count": 62,
   "metadata": {},
   "outputs": [
    {
     "name": "stdout",
     "output_type": "stream",
     "text": [
      "Skewness total customer: 3.543887951117252\n",
      "Skewness total profit: 2.5758509660723456\n"
     ]
    }
   ],
   "source": [
    "#Check skewness for column customer and profit\n",
    "\n",
    "print(f\"Skewness total customer: {df_cust_profit['Total Customer'].skew()}\")\n",
    "print(f\"Skewness total profit: {df_cust_profit['Profit'].skew()}\")"
   ]
  },
  {
   "cell_type": "markdown",
   "metadata": {},
   "source": [
    "Skewness dari kedua kolom tersebut adalah positif, dengan nilai skewness lebih besar dari 0.5 yang berarti distribusi data tersebut tidak normal. Maka untuk pengujian korelasi dapat menggunakan teknik spearman atau kendall."
   ]
  },
  {
   "cell_type": "code",
   "execution_count": 63,
   "metadata": {},
   "outputs": [
    {
     "data": {
      "text/plain": [
       "<seaborn.axisgrid.FacetGrid at 0x1634b954050>"
      ]
     },
     "execution_count": 63,
     "metadata": {},
     "output_type": "execute_result"
    },
    {
     "data": {
      "image/png": "[encoded data removed]",
      "text/plain": [
       "<Figure size 500x500 with 1 Axes>"
      ]
     },
     "metadata": {},
     "output_type": "display_data"
    }
   ],
   "source": [
    "sns.lmplot(data=df_cust_profit, x='Total Customer', y='Profit')"
   ]
  },
  {
   "cell_type": "code",
   "execution_count": 64,
   "metadata": {},
   "outputs": [
    {
     "name": "stdout",
     "output_type": "stream",
     "text": [
      "tau-correlation: 0.26, p-value: 0.009225646856918127\n"
     ]
    }
   ],
   "source": [
    "#Calculating correlation using Kendall Tau technique\n",
    "\n",
    "# corr_rho, pval_s = stats.spearmanr(df_cust_profit['Customer ID'], df_cust_profit['Profit'])\n",
    "corr_tau, pval_k = stats.kendalltau(df_cust_profit['Total Customer'], df_cust_profit['Profit'])\n",
    "\n",
    "# print(f\"rho-correlation: {corr_rho:.2f}, p-value: {pval_s}\")\n",
    "print(f\"tau-correlation: {corr_tau:.2f}, p-value: {pval_k}\")"
   ]
  },
  {
   "cell_type": "markdown",
   "metadata": {},
   "source": [
    "Perhitungan korelasi menggunakan metode kendall diatas menghasilkan nilai korelasi yaitu 0.26. Nilai korelasi ini positif tetapi masih dibawah 1 dan mendekati 0 yang berarti jumlah customer tidak memiliki korelasi terhadap profit perusahaan. Artinya meningkatkan jumlah customer belum tentu meningkatkan jumlah profit. Jika berdasarkan analisa sebelumnya meningkatkan penjualan produk yang tepat lebih berdampak kepada profit perusahaan, tidak perlu untuk meningkatkan jumlah customer."
   ]
  },
  {
   "cell_type": "markdown",
   "metadata": {},
   "source": [
    "## 5.8 Apakah jumlah diskon yang diberikan mempengaruhi profit perusahaan ? (Statistic Inferential)"
   ]
  },
  {
   "cell_type": "markdown",
   "metadata": {},
   "source": [
    "Untuk mencari tahu apakah diskon mempengaruhi profit perusahaan maka akan dilakukan test menggunakan metode Chi-Squared dengan hipotesis sebagai berikut :\n",
    "\n",
    "$H_0$ : Jumlah diskon tidak mempengaruhi profit perusahaan\n",
    "\n",
    "$H_1$ : Jumlah diskon mempengaruhi profit perusahaan\n",
    "\n",
    "Sebelum tes dilakukan, data discount dan profit perlu diubah menjadi kategorikal terlebih dahulu."
   ]
  },
  {
   "cell_type": "code",
   "execution_count": 65,
   "metadata": {},
   "outputs": [],
   "source": [
    "#Change numerical column into categorical column\n",
    "\n",
    "df_disc_profit = df.copy()\n",
    "discount_conditions = [(df_disc_profit['Discount'] <= 0.35), (df_disc_profit['Discount'] > 0.35) & (df_disc_profit['Discount'] <= 0.65), (df_disc_profit['Discount'] > 0.65)]\n",
    "discount_category = ['Low', 'Medium', 'High']\n",
    "df_disc_profit['Discount_Category'] = np.select(discount_conditions, discount_category)\n",
    "df_disc_profit['Profit_Loss'] = np.where(df['Profit'] > 0, 'Profit', 'Loss')\n",
    "df_disc_profit['Discount_Category'] = pd.Categorical(df_disc_profit['Discount_Category'], categories=['Low', 'Medium', 'High'])\n",
    "df_disc_profit['Profit_Loss'] = pd.Categorical(df_disc_profit['Profit_Loss'], categories=['Profit', 'Loss'])"
   ]
  },
  {
   "cell_type": "markdown",
   "metadata": {},
   "source": [
    "Membagi diskon menjadi 3 kategori :\n",
    "- Diskon 0~35% = Low\n",
    "- Diskon 36%~65% = Medium\n",
    "- Diskon 66%~100% = High\n",
    "\n",
    "Membagi profit menjadi 2 kategori :\n",
    "- Jika profit lebih besar sama dengan 0 maka dikategorikan 'Profit'\n",
    "- Jika profit kurang dari 0 maka dikategorikan 'Loss'"
   ]
  },
  {
   "cell_type": "code",
   "execution_count": 66,
   "metadata": {},
   "outputs": [
    {
     "data": {
      "text/html": [
       "<div>\n",
       "<style scoped>\n",
       "    .dataframe tbody tr th:only-of-type {\n",
       "        vertical-align: middle;\n",
       "    }\n",
       "\n",
       "    .dataframe tbody tr th {\n",
       "        vertical-align: top;\n",
       "    }\n",
       "\n",
       "    .dataframe thead th {\n",
       "        text-align: right;\n",
       "    }\n",
       "</style>\n",
       "<table border=\"1\" class=\"dataframe\">\n",
       "  <thead>\n",
       "    <tr style=\"text-align: right;\">\n",
       "      <th>Profit_Loss</th>\n",
       "      <th>Profit</th>\n",
       "      <th>Loss</th>\n",
       "    </tr>\n",
       "    <tr>\n",
       "      <th>Discount_Category</th>\n",
       "      <th></th>\n",
       "      <th></th>\n",
       "    </tr>\n",
       "  </thead>\n",
       "  <tbody>\n",
       "    <tr>\n",
       "      <th>Low</th>\n",
       "      <td>8032</td>\n",
       "      <td>822</td>\n",
       "    </tr>\n",
       "    <tr>\n",
       "      <th>Medium</th>\n",
       "      <td>26</td>\n",
       "      <td>395</td>\n",
       "    </tr>\n",
       "    <tr>\n",
       "      <th>High</th>\n",
       "      <td>0</td>\n",
       "      <td>718</td>\n",
       "    </tr>\n",
       "  </tbody>\n",
       "</table>\n",
       "</div>"
      ],
      "text/plain": [
       "Profit_Loss        Profit  Loss\n",
       "Discount_Category              \n",
       "Low                  8032   822\n",
       "Medium                 26   395\n",
       "High                    0   718"
      ]
     },
     "execution_count": 66,
     "metadata": {},
     "output_type": "execute_result"
    }
   ],
   "source": [
    "cross = pd.crosstab(df_disc_profit['Discount_Category'], df_disc_profit['Profit_Loss'])\n",
    "cross"
   ]
  },
  {
   "cell_type": "code",
   "execution_count": 67,
   "metadata": {},
   "outputs": [
    {
     "name": "stdout",
     "output_type": "stream",
     "text": [
      "P-value: 0.0\n"
     ]
    }
   ],
   "source": [
    "#Calculate pvalue using chi-square test\n",
    "\n",
    "pval = stats.chi2_contingency(cross).pvalue\n",
    "print(\"P-value:\", pval)"
   ]
  },
  {
   "cell_type": "markdown",
   "metadata": {},
   "source": [
    "Dari hasil pengujian tersebut nilai P-value yang didapatkan adalah 0.0 dimana nilai ini lebih kecil dari critical value 0.05, artinya $H_0$ ditolak. Karena $H_0$ ditolak maka kesimpulannya adalah **jumlah diskon memang mempengaruhi profit perusahaan**, semakin besar jumlah diskon yang diberikan semakin kecil profit perusahaan, bahkan sampai merugi."
   ]
  },
  {
   "cell_type": "markdown",
   "metadata": {},
   "source": [
    "# 6. Conclusion"
   ]
  },
  {
   "cell_type": "markdown",
   "metadata": {},
   "source": [
    "Kesimpulannya, untuk meningkatkan profit perusahaan dapat dilakukan dengan cara meningkatkan penjualan pada negara bagian yang profitnya tinggi, atau dengan cara meningkatkan profit penjualan pada negara bagian yang profitnya rendah. Meningkatkan profit penjualan ini dapat dilakukan dengan mentargetkan pelanggan dan produk mana yang akan ditingkatkan penjualannya, dengan meningkatkan penjualan pada pelanggan dan produk yang tepat yaitu segmen consumer dan kategori teknologi dapat menghasilkan profit yang maksimal. Selanjutnya, mengurangi penjualan pada kategori atau sub-kategori produk yang mengalami kerugian (dalam kasus ini adalah sub-kategori furniture) juga dapat meningkatkan profit perusahaan secara keseluruhan, jika memang produk tersebut merugi maka patut dipertimbangkan apakah perlu dijual kembali ditahun berikutnya atau tidak.\n",
    "\n",
    "Selain itu jumlah pelanggan tidak memiliki hubungan dengan profit yang didapat perusahaan maka perusahaan tidak wajib mengeluarkan biaya untuk menambah pelanggan. Faktor yang paling mempengaruhi profit perusahaan dalam 4 tahun terakhir adalah diskon yang diberikan kepada pelanggan, diskon yang terlalu besar menyebabkan perusahaan mengalami kerugian pada beberapa negara bagian, sehingga jumlah diskon ini perlu dievaluasi kembali agar tidak sampai merugikan perusahaan."
   ]
  }
 ],
 "metadata": {
  "kernelspec": {
   "display_name": "base",
   "language": "python",
   "name": "python3"
  },
  "language_info": {
   "codemirror_mode": {
    "name": "ipython",
    "version": 3
   },
   "file_extension": ".py",
   "mimetype": "text/x-python",
   "name": "python",
   "nbconvert_exporter": "python",
   "pygments_lexer": "ipython3",
   "version": "3.11.4"
  },
  "orig_nbformat": 4
 },
 "nbformat": 4,
 "nbformat_minor": 2
}
